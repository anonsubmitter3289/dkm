{
 "cells": [
  {
   "cell_type": "code",
   "execution_count": 13,
   "metadata": {},
   "outputs": [],
   "source": [
    "import json\n",
    "import numpy as np\n",
    "\n",
    "def print_stats(name,res):\n",
    "    print(f\"{name}: mean: {100*res.mean()}, std: {100*res.std()}\")"
   ]
  },
  {
   "cell_type": "markdown",
   "metadata": {},
   "source": [
    "# SOTA comparison"
   ]
  },
  {
   "cell_type": "code",
   "execution_count": 38,
   "metadata": {},
   "outputs": [
    {
     "name": "stdout",
     "output_type": "stream",
     "text": [
      "scannet_auc_5: mean: 24.75299522277076, std: 0.4953369173495964\n",
      "scannet_auc_10: mean: 44.38012285917171, std: 0.30080677532275335\n",
      "scannet_auc_20: mean: 61.85044190173109, std: 0.14855105109671196\n",
      "scannet_map_5: mean: 52.18666666666667, std: 0.6469071717711037\n",
      "scannet_map_10: mean: 62.133333333333326, std: 0.41257995858042174\n",
      "scannet_map_20: mean: 72.09, std: 0.23347614677116663\n"
     ]
    }
   ],
   "source": [
    "scannet_results = json.load(open(\"results/scannet_r2_mega_synthetic.json\",\"r\"))\n",
    "keys = list(scannet_results[0].keys())\n",
    "for k in keys:\n",
    "    print_stats(f\"scannet_{k}\",np.array([d[k] for d in scannet_results]))"
   ]
  },
  {
   "cell_type": "code",
   "execution_count": 39,
   "metadata": {},
   "outputs": [
    {
     "name": "stdout",
     "output_type": "stream",
     "text": [
      "scannet_auc_5: mean: 23.73125752380115, std: 0.5209467226768484\n",
      "scannet_auc_10: mean: 43.833892773171556, std: 0.3821262535783464\n",
      "scannet_auc_20: mean: 61.7358208046215, std: 0.2731375525533023\n",
      "scannet_map_5: mean: 51.26666666666666, std: 0.8768630958643931\n",
      "scannet_map_10: mean: 61.925, std: 0.726244143216009\n",
      "scannet_map_20: mean: 72.13333333333334, std: 0.39104560688834045\n"
     ]
    }
   ],
   "source": [
    "scannet_thr1_results = json.load(open(\"results/scannet_r2_mega_synthetic_thr=1.0.json\",\"r\"))\n",
    "keys = list(scannet_thr1_results[0].keys())\n",
    "for k in keys:\n",
    "    print_stats(f\"scannet_{k}\",np.array([d[k] for d in scannet_thr1_results]))"
   ]
  },
  {
   "cell_type": "code",
   "execution_count": 36,
   "metadata": {},
   "outputs": [
    {
     "name": "stdout",
     "output_type": "stream",
     "text": [
      "scannet_mega_auc_5: mean: 23.038439530381556, std: 0.31044002523886616\n",
      "scannet_mega_auc_10: mean: 42.243271969777666, std: 0.35648470991912923\n",
      "scannet_mega_auc_20: mean: 59.384433782103194, std: 0.2653857712981805\n",
      "scannet_mega_map_5: mean: 48.946666666666665, std: 0.5568163471418953\n",
      "scannet_mega_map_10: mean: 59.353333333333346, std: 0.44751163858235393\n",
      "scannet_mega_map_20: mean: 69.16, std: 0.28530685235374525\n"
     ]
    }
   ],
   "source": [
    "scannet_r2_mega_results = json.load(open(\"results/scannet_r2_mega.json\",\"r\"))\n",
    "keys = list(scannet_r2_mega_results[0].keys())\n",
    "for k in keys:\n",
    "    print_stats(f\"scannet_mega_{k}\",np.array([d[k] for d in scannet_r2_mega_results]))\n"
   ]
  },
  {
   "cell_type": "code",
   "execution_count": 15,
   "metadata": {},
   "outputs": [
    {
     "name": "stdout",
     "output_type": "stream",
     "text": [
      "megaloftr_auc_5: mean: 55.03211610666725, std: 0.4058291119615336\n",
      "megaloftr_auc_10: mean: 70.80080817484739, std: 0.28553740573337527\n",
      "megaloftr_auc_20: mean: 82.23190088511649, std: 0.14888492016727864\n",
      "megaloftr_map_5: mean: 80.72000000000001, std: 0.5153639490690036\n",
      "megaloftr_map_10: mean: 85.54666666666665, std: 0.29709706606876285\n",
      "megaloftr_map_20: mean: 90.13666666666667, std: 0.16779617264870827\n"
     ]
    }
   ],
   "source": [
    "megaloftr_results = json.load(open(\"results/megaloftr_r3.json\",\"r\"))\n",
    "keys = list(megaloftr_results[0].keys())\n",
    "for k in keys:\n",
    "    print_stats(f\"megaloftr_{k}\",np.array([d[k] for d in megaloftr_results]))"
   ]
  },
  {
   "cell_type": "code",
   "execution_count": 40,
   "metadata": {},
   "outputs": [
    {
     "name": "stdout",
     "output_type": "stream",
     "text": [
      "megaloftr2_auc_5: mean: 54.529865530568834, std: 0.2460229156117453\n",
      "megaloftr2_auc_10: mean: 70.69410928526712, std: 0.21053842291820063\n",
      "megaloftr2_auc_20: mean: 82.29420503603521, std: 0.13741218083294315\n",
      "megaloftr2_map_5: mean: 80.52, std: 0.43287154881994483\n",
      "megaloftr2_map_10: mean: 85.70666666666668, std: 0.29318177903061565\n",
      "megaloftr2_map_20: mean: 90.29333333333334, std: 0.106249183003394\n"
     ]
    }
   ],
   "source": [
    "megaloftr2_results = json.load(open(\"results/megaloftr_r2.json\",\"r\"))\n",
    "keys = list(megaloftr_results[0].keys())\n",
    "for k in keys:\n",
    "    print_stats(f\"megaloftr2_{k}\",np.array([d[k] for d in megaloftr2_results]))"
   ]
  },
  {
   "cell_type": "code",
   "execution_count": 17,
   "metadata": {},
   "outputs": [
    {
     "name": "stdout",
     "output_type": "stream",
     "text": [
      "yfcc100m_auc_5: mean: 40.5995738448701, std: 0.338576825237046\n",
      "yfcc100m_auc_10: mean: 61.197615301987796, std: 0.15948176679517237\n",
      "yfcc100m_auc_20: mean: 77.03216721904624, std: 0.10512962864341478\n",
      "yfcc100m_map_5: mean: 71.03333333333333, std: 0.18966344461235243\n",
      "yfcc100m_map_10: mean: 79.70416666666668, std: 0.06236095644623044\n",
      "yfcc100m_map_20: mean: 87.0375, std: 0.09071475440448616\n"
     ]
    }
   ],
   "source": [
    "yfcc100m_results = json.load(open(\"results/yfcc100m_r3.json\",\"r\"))\n",
    "keys = list(yfcc100m_results[0].keys())\n",
    "for k in keys:\n",
    "    print_stats(f\"yfcc100m_{k}\",np.array([d[k] for d in yfcc100m_results]))"
   ]
  },
  {
   "cell_type": "code",
   "execution_count": 23,
   "metadata": {},
   "outputs": [
    {
     "name": "stdout",
     "output_type": "stream",
     "text": [
      "hpatches_homog_hpatches_homog_auc_3: mean: 70.7965336894616, std: 0.32980464794132713\n",
      "hpatches_homog_hpatches_homog_auc_5: mean: 79.98964936565672, std: 0.2969571243580533\n",
      "hpatches_homog_hpatches_homog_auc_10: mean: 88.12147837161024, std: 0.14062316982423073\n"
     ]
    }
   ],
   "source": [
    "hpatches_homog_r1_mega_results = json.load(open(\"results/hpatches_homog_r1_mega.json\",\"r\"))\n",
    "keys = list(hpatches_homog_r1_mega_results[0].keys())\n",
    "for k in keys:\n",
    "    print_stats(f\"hpatches_homog_{k}\",np.array([d[k] for d in hpatches_homog_r1_mega_results]))"
   ]
  },
  {
   "cell_type": "code",
   "execution_count": 41,
   "metadata": {},
   "outputs": [
    {
     "name": "stdout",
     "output_type": "stream",
     "text": [
      "hpatches_homog_hpatches_homog_auc_3: mean: 71.18124533811479, std: 0.46257608913035325\n",
      "hpatches_homog_hpatches_homog_auc_5: mean: 80.1891427293681, std: 0.32873663723926255\n",
      "hpatches_homog_hpatches_homog_auc_10: mean: 88.1031012502709, std: 0.193972295123645\n"
     ]
    }
   ],
   "source": [
    "hpatches_homog_r2_mega_results = json.load(open(\"results/hpatches_homog_r2_mega.json\",\"r\"))\n",
    "keys = list(hpatches_homog_r1_mega_results[0].keys())\n",
    "for k in keys:\n",
    "    print_stats(f\"hpatches_homog_{k}\",np.array([d[k] for d in hpatches_homog_r2_mega_results]))"
   ]
  },
  {
   "cell_type": "markdown",
   "metadata": {},
   "source": [
    "# Ablation"
   ]
  },
  {
   "cell_type": "code",
   "execution_count": 19,
   "metadata": {},
   "outputs": [
    {
     "name": "stdout",
     "output_type": "stream",
     "text": [
      "mega_dense_dkm_mega_aepe: mean: 2071.1473133973577, std: 113.31173890161843\n",
      "mega_dense_dkm_mega_pck_1: mean: 54.596881510416665, std: 0.8950046562724006\n",
      "mega_dense_dkm_mega_pck_3: mean: 68.80578776041666, std: 0.9234298945624891\n",
      "mega_dense_dkm_mega_pck_5: mean: 73.02275553385418, std: 0.9002906234038842\n"
     ]
    }
   ],
   "source": [
    "mega_dense_dkm_results = json.load(open(\"results/mega_dense_dkm.json\",\"r\"))\n",
    "keys = list(mega_dense_dkm_results[0].keys())\n",
    "for k in keys:\n",
    "    print_stats(f\"mega_dense_dkm_{k}\",np.array([d[k] for d in mega_dense_dkm_results]))"
   ]
  },
  {
   "cell_type": "code",
   "execution_count": 26,
   "metadata": {},
   "outputs": [
    {
     "name": "stdout",
     "output_type": "stream",
     "text": [
      "mega_dense_local_corr_mega_aepe: mean: 2234.6659974955824, std: 58.99338500011378\n",
      "mega_dense_local_corr_mega_pck_1: mean: 47.762294921875004, std: 0.4607030739116741\n",
      "mega_dense_local_corr_mega_pck_3: mean: 64.13194010416667, std: 0.3931074220989308\n",
      "mega_dense_local_corr_mega_pck_5: mean: 69.71027180989584, std: 0.4211241491350736\n"
     ]
    }
   ],
   "source": [
    "mega_dense_local_corr_results = json.load(open(\"results/mega_dense_local_corr.json\",\"r\"))\n",
    "keys = list(mega_dense_local_corr_results[0].keys())\n",
    "for k in keys:\n",
    "    print_stats(f\"mega_dense_local_corr_{k}\",np.array([d[k] for d in mega_dense_local_corr_results]))"
   ]
  },
  {
   "cell_type": "code",
   "execution_count": 27,
   "metadata": {},
   "outputs": [
    {
     "name": "stdout",
     "output_type": "stream",
     "text": [
      "mega_dense_no_regression_mega_aepe: mean: 2416.4256799466907, std: 96.1222112826695\n",
      "mega_dense_no_regression_mega_pck_1: mean: 54.24858968098958, std: 0.7218767018254536\n",
      "mega_dense_no_regression_mega_pck_3: mean: 67.7059269205729, std: 0.7655484491930686\n",
      "mega_dense_no_regression_mega_pck_5: mean: 71.60184244791668, std: 0.7420974944853818\n"
     ]
    }
   ],
   "source": [
    "mega_dense_no_regression_results = json.load(open(\"results/mega_dense_no_regression.json\",\"r\"))\n",
    "keys = list(mega_dense_no_regression_results[0].keys())\n",
    "for k in keys:\n",
    "    print_stats(f\"mega_dense_no_regression_{k}\",np.array([d[k] for d in mega_dense_no_regression_results]))"
   ]
  },
  {
   "cell_type": "code",
   "execution_count": 30,
   "metadata": {},
   "outputs": [
    {
     "name": "stdout",
     "output_type": "stream",
     "text": [
      "mega_dense_linear_mega_aepe: mean: 2948.7850543481254, std: 135.4593309374971\n",
      "mega_dense_linear_mega_pck_1: mean: 49.65627278645833, std: 0.801047979931036\n",
      "mega_dense_linear_mega_pck_3: mean: 62.20484130859375, std: 0.940568913883362\n",
      "mega_dense_linear_mega_pck_5: mean: 65.94401774088541, std: 0.9744647202453139\n"
     ]
    }
   ],
   "source": [
    "mega_dense_linear_results = json.load(open(\"results/mega_dense_linear.json\",\"r\"))\n",
    "keys = list(mega_dense_linear_results[0].keys())\n",
    "for k in keys:\n",
    "    print_stats(f\"mega_dense_linear_{k}\",np.array([d[k] for d in mega_dense_linear_results]))"
   ]
  },
  {
   "cell_type": "code",
   "execution_count": 29,
   "metadata": {},
   "outputs": [
    {
     "name": "stdout",
     "output_type": "stream",
     "text": [
      "mega_dense_baseline_mega_aepe: mean: 2692.911184696239, std: 86.79634390757262\n",
      "mega_dense_baseline_mega_pck_1: mean: 45.82427815755209, std: 0.5475946015338997\n",
      "mega_dense_baseline_mega_pck_3: mean: 61.84776936848958, std: 0.5737014040905162\n",
      "mega_dense_baseline_mega_pck_5: mean: 67.19076578776043, std: 0.568080996893697\n"
     ]
    }
   ],
   "source": [
    "mega_dense_baseline_results = json.load(open(\"results/mega_dense_baseline.json\",\"r\"))\n",
    "keys = list(mega_dense_baseline_results[0].keys())\n",
    "for k in keys:\n",
    "    print_stats(f\"mega_dense_baseline_{k}\",np.array([d[k] for d in mega_dense_baseline_results]))"
   ]
  },
  {
   "cell_type": "code",
   "execution_count": 20,
   "metadata": {},
   "outputs": [
    {
     "name": "stdout",
     "output_type": "stream",
     "text": [
      "hpatches_dense_dkm_hp_aepe: mean: 1231.016984841782, std: 0.0\n",
      "hpatches_dense_dkm_hp_pck1: mean: 46.407831041428445, std: 5.551115123125783e-15\n",
      "hpatches_dense_dkm_hp_pck3: mean: 82.17670759412073, std: 1.1102230246251565e-14\n",
      "hpatches_dense_dkm_hp_pck5: mean: 89.7793123522878, std: 0.0\n"
     ]
    }
   ],
   "source": [
    "hpatches_dense_dkm_results = json.load(open(\"results/hpatches_dense_dkm.json\",\"r\"))\n",
    "keys = list(hpatches_dense_dkm_results[0].keys())\n",
    "for k in keys:\n",
    "    print_stats(f\"hpatches_dense_dkm_{k}\",np.array([d[k] for d in hpatches_dense_dkm_results]))"
   ]
  },
  {
   "cell_type": "code",
   "execution_count": 22,
   "metadata": {},
   "outputs": [
    {
     "name": "stdout",
     "output_type": "stream",
     "text": [
      "hpatches_dense_local_corr_hp_aepe: mean: 1275.0039364724223, std: 0.0\n",
      "hpatches_dense_local_corr_hp_pck1: mean: 44.88215358823269, std: 0.0\n",
      "hpatches_dense_local_corr_hp_pck3: mean: 80.50747085458246, std: 0.0\n",
      "hpatches_dense_local_corr_hp_pck5: mean: 88.52517606359038, std: 0.0\n"
     ]
    }
   ],
   "source": [
    "hpatches_dense_local_corr_results = json.load(open(\"results/hpatches_dense_local_corr.json\",\"r\"))\n",
    "keys = list(hpatches_dense_local_corr_results[0].keys())\n",
    "for k in keys:\n",
    "    print_stats(f\"hpatches_dense_local_corr_{k}\",np.array([d[k] for d in hpatches_dense_local_corr_results]))"
   ]
  },
  {
   "cell_type": "code",
   "execution_count": 24,
   "metadata": {},
   "outputs": [
    {
     "name": "stdout",
     "output_type": "stream",
     "text": [
      "hpatches_dense_no_regression_hp_aepe: mean: 1258.6542421976267, std: 0.0\n",
      "hpatches_dense_no_regression_hp_pck1: mean: 46.5164044064813, std: 0.0\n",
      "hpatches_dense_no_regression_hp_pck3: mean: 81.50775521155299, std: 0.0\n",
      "hpatches_dense_no_regression_hp_pck5: mean: 88.98215880609976, std: 0.0\n"
     ]
    }
   ],
   "source": [
    "hpatches_dense_no_regression_results = json.load(open(\"results/hpatches_dense_no_regression.json\",\"r\"))\n",
    "keys = list(hpatches_dense_no_regression_results[0].keys())\n",
    "for k in keys:\n",
    "    print_stats(f\"hpatches_dense_no_regression_{k}\",np.array([d[k] for d in hpatches_dense_no_regression_results]))"
   ]
  },
  {
   "cell_type": "code",
   "execution_count": 31,
   "metadata": {},
   "outputs": [
    {
     "name": "stdout",
     "output_type": "stream",
     "text": [
      "hpatches_dense_linear_hp_aepe: mean: 1745.0357777563045, std: 0.0\n",
      "hpatches_dense_linear_hp_pck1: mean: 45.65097012874796, std: 0.0\n",
      "hpatches_dense_linear_hp_pck3: mean: 80.48548880855625, std: 0.0\n",
      "hpatches_dense_linear_hp_pck5: mean: 87.92376518323998, std: 0.0\n"
     ]
    }
   ],
   "source": [
    "hpatches_dense_linear_results = json.load(open(\"results/hpatches_dense_linear.json\",\"r\"))\n",
    "keys = list(hpatches_dense_linear_results[0].keys())\n",
    "for k in keys:\n",
    "    print_stats(f\"hpatches_dense_linear_{k}\",np.array([d[k] for d in hpatches_dense_linear_results]))"
   ]
  },
  {
   "cell_type": "code",
   "execution_count": 32,
   "metadata": {},
   "outputs": [
    {
     "name": "stdout",
     "output_type": "stream",
     "text": [
      "hpatches_dense_baseline_hp_aepe: mean: 1099.2947704743394, std: 0.0\n",
      "hpatches_dense_baseline_hp_pck1: mean: 44.25674784806811, std: 0.0\n",
      "hpatches_dense_baseline_hp_pck3: mean: 80.15633513293031, std: 0.0\n",
      "hpatches_dense_baseline_hp_pck5: mean: 88.30468018308393, std: 0.0\n"
     ]
    }
   ],
   "source": [
    "hpatches_dense_baseline_results = json.load(open(\"results/hpatches_dense_baseline.json\",\"r\"))\n",
    "keys = list(hpatches_dense_baseline_results[0].keys())\n",
    "for k in keys:\n",
    "    print_stats(f\"hpatches_dense_baseline_{k}\",np.array([d[k] for d in hpatches_dense_baseline_results]))"
   ]
  }
 ],
 "metadata": {
  "interpreter": {
   "hash": "6d8220c531e2cec08d4e53832299860539a542ac604cafa67b65d16414156dfe"
  },
  "kernelspec": {
   "display_name": "Python 3.8.3 ('base')",
   "language": "python",
   "name": "python3"
  },
  "language_info": {
   "codemirror_mode": {
    "name": "ipython",
    "version": 3
   },
   "file_extension": ".py",
   "mimetype": "text/x-python",
   "name": "python",
   "nbconvert_exporter": "python",
   "pygments_lexer": "ipython3",
   "version": "3.8.3"
  },
  "orig_nbformat": 4
 },
 "nbformat": 4,
 "nbformat_minor": 2
}
